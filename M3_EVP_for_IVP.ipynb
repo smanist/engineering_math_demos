{
 "cells": [
  {
   "cell_type": "code",
   "execution_count": null,
   "id": "1b83e39c",
   "metadata": {},
   "outputs": [],
   "source": [
    "---\n",
    "title: Solving 2D ODE by Matrix Exponentials\n",
    "description: An application of eigenvalue decomposition\n",
    "author: Daning H.\n",
    "show-code: False\n",
    "show-prompt: False\n",
    "params:\n",
    "    a11:\n",
    "        input: numeric\n",
    "        label: a_11\n",
    "        value: 1.0\n",
    "        min: -2\n",
    "        max: 2\n",
    "        step: 0.1\n",
    "    a12:\n",
    "        input: numeric\n",
    "        label: a_12\n",
    "        value: -1.0\n",
    "        min: -2\n",
    "        max: 2\n",
    "        step: 0.1\n",
    "    a21:\n",
    "        input: numeric\n",
    "        label: a_21\n",
    "        value: -0.25\n",
    "        min: -2\n",
    "        max: 2\n",
    "        step: 0.1\n",
    "    a22:\n",
    "        input: numeric\n",
    "        label: a_22\n",
    "        value: 1.0\n",
    "        min: -2\n",
    "        max: 2\n",
    "        step: 0.1\n",
    "    y01:\n",
    "        input: numeric\n",
    "        label: y_01\n",
    "        value: 0.1\n",
    "        min: -2\n",
    "        max: 2\n",
    "        step: 0.1\n",
    "    y02:\n",
    "        input: numeric\n",
    "        label: y_02\n",
    "        value: 0.0\n",
    "        min: -2\n",
    "        max: 2\n",
    "        step: 0.1\n",
    "    Dt:\n",
    "        input: numeric\n",
    "        label: Step size\n",
    "        value: 0.2\n",
    "        min: 0.1\n",
    "        max: 1.0\n",
    "        step: 0.1\n",
    "---"
   ]
  },
  {
   "cell_type": "markdown",
   "id": "cd134100",
   "metadata": {},
   "source": [
    "We consider an initial value problem defined by a 2D ODE\n",
    "$$\n",
    "y'=Ay,\\quad y(0) = y_0\n",
    "$$\n",
    "where $y=[y_1,y_2]^T$ and\n",
    "$$\n",
    "A=\\begin{bmatrix} a_{11} & a_{12} \\\\ a_{21} & a_{22} \\end{bmatrix}\n",
    "$$\n",
    "Suppose one has the eigenvalue decomposition\n",
    "$\n",
    "A=X\\Lambda X^{-1}\n",
    "$\n",
    "then one can compute the matrix exponential\n",
    "$\n",
    "\\exp(A) = X\\exp(\\Lambda) X^{-1}\n",
    "$\n",
    "and the solution is\n",
    "$\n",
    "y(t) = \\exp(A)y_0\n",
    "$\n",
    "\n",
    "Assume the eigenpairs of $A$ are $(x_1,\\lambda_1)$ and $(x_2,\\lambda_2)$, then the matrix exponential effectively deomposes the initial condition as\n",
    "$$\n",
    "y_0 = c_1 x_1 + c_2 x_2\n",
    "$$\n",
    "then the solution evolves according to the eigenvalues\n",
    "$$\n",
    "y(t) = c_1\\exp(\\lambda_1 t) x_1 + c_2\\exp(\\lambda_2 t) x_2\n",
    "$$\n",
    "\n",
    "*Think about how you would compute $c=[c_1, c_2]^T$*"
   ]
  },
  {
   "cell_type": "code",
   "execution_count": 18,
   "id": "2e7a0d00",
   "metadata": {},
   "outputs": [],
   "source": [
    "a11 = 1.0\n",
    "a12 = -1.0\n",
    "a21 = -0.25\n",
    "a22 = 1.0\n",
    "y01 = 0.1\n",
    "y02 = 0.0\n",
    "Dt  = 0.2"
   ]
  },
  {
   "cell_type": "code",
   "execution_count": 24,
   "id": "1f7cf1a3",
   "metadata": {},
   "outputs": [
    {
     "data": {
      "application/vnd.plotly.v1+json": {
       "config": {
        "plotlyServerURL": "https://plot.ly"
       },
       "data": [
        {
         "line": {
          "color": "blue",
          "width": 2
         },
         "name": "Eigenvector 1",
         "showlegend": true,
         "type": "scatter",
         "visible": true,
         "x": [
          0,
          0.05
         ],
         "y": [
          0,
          -0.025
         ]
        },
        {
         "line": {
          "color": "red",
          "width": 2
         },
         "name": "Eigenvector 2",
         "showlegend": true,
         "type": "scatter",
         "visible": true,
         "x": [
          0,
          0.05
         ],
         "y": [
          0,
          0.025
         ]
        },
        {
         "line": {
          "color": "black",
          "width": 2
         },
         "name": "Solution",
         "showlegend": true,
         "type": "scatter",
         "visible": true,
         "x": [
          0.1
         ],
         "y": [
          0
         ]
        },
        {
         "line": {
          "color": "gray",
          "dash": "dash",
          "width": 1
         },
         "name": "Decomposition",
         "showlegend": true,
         "type": "scatter",
         "visible": true,
         "x": [
          0.05,
          0.1,
          0.05
         ],
         "y": [
          -0.025,
          0,
          0.025
         ]
        },
        {
         "line": {
          "color": "blue",
          "width": 2
         },
         "name": "Eigenvector 1",
         "showlegend": false,
         "type": "scatter",
         "visible": false,
         "x": [
          0,
          0.05,
          0.09110594001952546
         ],
         "y": [
          0,
          -0.025,
          -0.04555297000976273
         ]
        },
        {
         "line": {
          "color": "red",
          "width": 2
         },
         "name": "Eigenvector 2",
         "showlegend": false,
         "type": "scatter",
         "visible": false,
         "x": [
          0,
          0.05,
          0.06107013790800849
         ],
         "y": [
          0,
          0.025,
          0.030535068954004246
         ]
        },
        {
         "line": {
          "color": "black",
          "width": 2
         },
         "name": "Solution",
         "showlegend": false,
         "type": "scatter",
         "visible": false,
         "x": [
          0.1,
          0.15217607792753396
         ],
         "y": [
          0,
          -0.015017901055758485
         ]
        },
        {
         "line": {
          "color": "gray",
          "dash": "dash",
          "width": 1
         },
         "name": "Decomposition",
         "showlegend": false,
         "type": "scatter",
         "visible": false,
         "x": [
          0.09110594001952546,
          0.15217607792753396,
          0.06107013790800849
         ],
         "y": [
          -0.04555297000976273,
          -0.015017901055758485,
          0.030535068954004246
         ]
        },
        {
         "line": {
          "color": "blue",
          "width": 2
         },
         "name": "Eigenvector 1",
         "showlegend": false,
         "type": "scatter",
         "visible": false,
         "x": [
          0,
          0.05,
          0.09110594001952546,
          0.16600584613682742
         ],
         "y": [
          0,
          -0.025,
          -0.04555297000976273,
          -0.08300292306841371
         ]
        },
        {
         "line": {
          "color": "red",
          "width": 2
         },
         "name": "Eigenvector 2",
         "showlegend": false,
         "type": "scatter",
         "visible": false,
         "x": [
          0,
          0.05,
          0.06107013790800849,
          0.07459123488206353
         ],
         "y": [
          0,
          0.025,
          0.030535068954004246,
          0.03729561744103176
         ]
        },
        {
         "line": {
          "color": "black",
          "width": 2
         },
         "name": "Solution",
         "showlegend": false,
         "type": "scatter",
         "visible": false,
         "x": [
          0.1,
          0.15217607792753396,
          0.24059708101889093
         ],
         "y": [
          0,
          -0.015017901055758485,
          -0.04570730562738195
         ]
        },
        {
         "line": {
          "color": "gray",
          "dash": "dash",
          "width": 1
         },
         "name": "Decomposition",
         "showlegend": false,
         "type": "scatter",
         "visible": false,
         "x": [
          0.16600584613682742,
          0.24059708101889093,
          0.07459123488206353
         ],
         "y": [
          -0.08300292306841371,
          -0.04570730562738195,
          0.03729561744103176
         ]
        },
        {
         "line": {
          "color": "blue",
          "width": 2
         },
         "name": "Eigenvector 1",
         "showlegend": false,
         "type": "scatter",
         "visible": false,
         "x": [
          0,
          0.05,
          0.09110594001952546,
          0.16600584613682742,
          0.30248237322064736
         ],
         "y": [
          0,
          -0.025,
          -0.04555297000976273,
          -0.08300292306841371,
          -0.15124118661032368
         ]
        },
        {
         "line": {
          "color": "red",
          "width": 2
         },
         "name": "Eigenvector 2",
         "showlegend": false,
         "type": "scatter",
         "visible": false,
         "x": [
          0,
          0.05,
          0.06107013790800849,
          0.07459123488206353,
          0.09110594001952546
         ],
         "y": [
          0,
          0.025,
          0.030535068954004246,
          0.03729561744103176,
          0.04555297000976273
         ]
        },
        {
         "line": {
          "color": "black",
          "width": 2
         },
         "name": "Solution",
         "showlegend": false,
         "type": "scatter",
         "visible": false,
         "x": [
          0.1,
          0.15217607792753396,
          0.24059708101889093,
          0.39358831324017285
         ],
         "y": [
          0,
          -0.015017901055758485,
          -0.04570730562738195,
          -0.10568821660056095
         ]
        },
        {
         "line": {
          "color": "gray",
          "dash": "dash",
          "width": 1
         },
         "name": "Decomposition",
         "showlegend": false,
         "type": "scatter",
         "visible": false,
         "x": [
          0.30248237322064736,
          0.39358831324017285,
          0.09110594001952546
         ],
         "y": [
          -0.15124118661032368,
          -0.10568821660056095,
          0.04555297000976273
         ]
        },
        {
         "line": {
          "color": "blue",
          "width": 2
         },
         "name": "Eigenvector 1",
         "showlegend": false,
         "type": "scatter",
         "visible": false,
         "x": [
          0,
          0.05,
          0.09110594001952546,
          0.16600584613682742,
          0.30248237322064736,
          0.5511588190320802
         ],
         "y": [
          0,
          -0.025,
          -0.04555297000976273,
          -0.08300292306841371,
          -0.15124118661032368,
          -0.2755794095160401
         ]
        },
        {
         "line": {
          "color": "red",
          "width": 2
         },
         "name": "Eigenvector 2",
         "showlegend": false,
         "type": "scatter",
         "visible": false,
         "x": [
          0,
          0.05,
          0.06107013790800849,
          0.07459123488206353,
          0.09110594001952546,
          0.1112770464246234
         ],
         "y": [
          0,
          0.025,
          0.030535068954004246,
          0.03729561744103176,
          0.04555297000976273,
          0.0556385232123117
         ]
        },
        {
         "line": {
          "color": "black",
          "width": 2
         },
         "name": "Solution",
         "showlegend": false,
         "type": "scatter",
         "visible": false,
         "x": [
          0.1,
          0.15217607792753396,
          0.24059708101889093,
          0.39358831324017285,
          0.6624358654567036
         ],
         "y": [
          0,
          -0.015017901055758485,
          -0.04570730562738195,
          -0.10568821660056095,
          -0.2199408863037284
         ]
        },
        {
         "line": {
          "color": "gray",
          "dash": "dash",
          "width": 1
         },
         "name": "Decomposition",
         "showlegend": false,
         "type": "scatter",
         "visible": false,
         "x": [
          0.5511588190320802,
          0.6624358654567036,
          0.1112770464246234
         ],
         "y": [
          -0.2755794095160401,
          -0.2199408863037284,
          0.0556385232123117
         ]
        },
        {
         "line": {
          "color": "blue",
          "width": 2
         },
         "name": "Eigenvector 1",
         "showlegend": false,
         "type": "scatter",
         "visible": false,
         "x": [
          0,
          0.05,
          0.09110594001952546,
          0.16600584613682742,
          0.30248237322064736,
          0.5511588190320802,
          1.0042768461593834
         ],
         "y": [
          0,
          -0.025,
          -0.04555297000976273,
          -0.08300292306841371,
          -0.15124118661032368,
          -0.2755794095160401,
          -0.5021384230796917
         ]
        },
        {
         "line": {
          "color": "red",
          "width": 2
         },
         "name": "Eigenvector 2",
         "showlegend": false,
         "type": "scatter",
         "visible": false,
         "x": [
          0,
          0.05,
          0.06107013790800849,
          0.07459123488206353,
          0.09110594001952546,
          0.1112770464246234,
          0.13591409142295227
         ],
         "y": [
          0,
          0.025,
          0.030535068954004246,
          0.03729561744103176,
          0.04555297000976273,
          0.0556385232123117,
          0.06795704571147614
         ]
        },
        {
         "line": {
          "color": "black",
          "width": 2
         },
         "name": "Solution",
         "showlegend": false,
         "type": "scatter",
         "visible": false,
         "x": [
          0.1,
          0.15217607792753396,
          0.24059708101889093,
          0.39358831324017285,
          0.6624358654567036,
          1.1401909375823356
         ],
         "y": [
          0,
          -0.015017901055758485,
          -0.04570730562738195,
          -0.10568821660056095,
          -0.2199408863037284,
          -0.43418137736821555
         ]
        },
        {
         "line": {
          "color": "gray",
          "dash": "dash",
          "width": 1
         },
         "name": "Decomposition",
         "showlegend": false,
         "type": "scatter",
         "visible": false,
         "x": [
          1.0042768461593834,
          1.1401909375823356,
          0.13591409142295227
         ],
         "y": [
          -0.5021384230796917,
          -0.43418137736821555,
          0.06795704571147614
         ]
        },
        {
         "line": {
          "color": "blue",
          "width": 2
         },
         "name": "Eigenvector 1",
         "showlegend": false,
         "type": "scatter",
         "visible": false,
         "x": [
          0,
          0.05,
          0.09110594001952546,
          0.16600584613682742,
          0.30248237322064736,
          0.5511588190320802,
          1.0042768461593834,
          1.8299117221839005
         ],
         "y": [
          0,
          -0.025,
          -0.04555297000976273,
          -0.08300292306841371,
          -0.15124118661032368,
          -0.2755794095160401,
          -0.5021384230796917,
          -0.9149558610919503
         ]
        },
        {
         "line": {
          "color": "red",
          "width": 2
         },
         "name": "Eigenvector 2",
         "showlegend": false,
         "type": "scatter",
         "visible": false,
         "x": [
          0,
          0.05,
          0.06107013790800849,
          0.07459123488206353,
          0.09110594001952546,
          0.1112770464246234,
          0.13591409142295227,
          0.16600584613682742
         ],
         "y": [
          0,
          0.025,
          0.030535068954004246,
          0.03729561744103176,
          0.04555297000976273,
          0.0556385232123117,
          0.06795704571147614,
          0.08300292306841371
         ]
        },
        {
         "line": {
          "color": "black",
          "width": 2
         },
         "name": "Solution",
         "showlegend": false,
         "type": "scatter",
         "visible": false,
         "x": [
          0.1,
          0.15217607792753396,
          0.24059708101889093,
          0.39358831324017285,
          0.6624358654567036,
          1.1401909375823356,
          1.995917568320728
         ],
         "y": [
          0,
          -0.015017901055758485,
          -0.04570730562738195,
          -0.10568821660056095,
          -0.2199408863037284,
          -0.43418137736821555,
          -0.8319529380235365
         ]
        },
        {
         "line": {
          "color": "gray",
          "dash": "dash",
          "width": 1
         },
         "name": "Decomposition",
         "showlegend": false,
         "type": "scatter",
         "visible": false,
         "x": [
          1.8299117221839005,
          1.995917568320728,
          0.16600584613682742
         ],
         "y": [
          -0.9149558610919503,
          -0.8319529380235365,
          0.08300292306841371
         ]
        },
        {
         "line": {
          "color": "blue",
          "width": 2
         },
         "name": "Eigenvector 1",
         "showlegend": false,
         "type": "scatter",
         "visible": false,
         "x": [
          0,
          0.05,
          0.09110594001952546,
          0.16600584613682742,
          0.30248237322064736,
          0.5511588190320802,
          1.0042768461593834,
          1.8299117221839005,
          3.334316552046258
         ],
         "y": [
          0,
          -0.025,
          -0.04555297000976273,
          -0.08300292306841371,
          -0.15124118661032368,
          -0.2755794095160401,
          -0.5021384230796917,
          -0.9149558610919503,
          -1.667158276023129
         ]
        },
        {
         "line": {
          "color": "red",
          "width": 2
         },
         "name": "Eigenvector 2",
         "showlegend": false,
         "type": "scatter",
         "visible": false,
         "x": [
          0,
          0.05,
          0.06107013790800849,
          0.07459123488206353,
          0.09110594001952546,
          0.1112770464246234,
          0.13591409142295227,
          0.16600584613682742,
          0.20275999834223377
         ],
         "y": [
          0,
          0.025,
          0.030535068954004246,
          0.03729561744103176,
          0.04555297000976273,
          0.0556385232123117,
          0.06795704571147614,
          0.08300292306841371,
          0.10137999917111688
         ]
        },
        {
         "line": {
          "color": "black",
          "width": 2
         },
         "name": "Solution",
         "showlegend": false,
         "type": "scatter",
         "visible": false,
         "x": [
          0.1,
          0.15217607792753396,
          0.24059708101889093,
          0.39358831324017285,
          0.6624358654567036,
          1.1401909375823356,
          1.995917568320728,
          3.5370765503884916
         ],
         "y": [
          0,
          -0.015017901055758485,
          -0.04570730562738195,
          -0.10568821660056095,
          -0.2199408863037284,
          -0.43418137736821555,
          -0.8319529380235365,
          -1.565778276852012
         ]
        },
        {
         "line": {
          "color": "gray",
          "dash": "dash",
          "width": 1
         },
         "name": "Decomposition",
         "showlegend": false,
         "type": "scatter",
         "visible": false,
         "x": [
          3.334316552046258,
          3.5370765503884916,
          0.20275999834223377
         ],
         "y": [
          -1.667158276023129,
          -1.565778276852012,
          0.10137999917111688
         ]
        },
        {
         "line": {
          "color": "blue",
          "width": 2
         },
         "name": "Eigenvector 1",
         "showlegend": false,
         "type": "scatter",
         "visible": false,
         "x": [
          0,
          0.05,
          0.09110594001952546,
          0.16600584613682742,
          0.30248237322064736,
          0.5511588190320802,
          1.0042768461593834,
          1.8299117221839005,
          3.334316552046258,
          6.075520875936749
         ],
         "y": [
          0,
          -0.025,
          -0.04555297000976273,
          -0.08300292306841371,
          -0.15124118661032368,
          -0.2755794095160401,
          -0.5021384230796917,
          -0.9149558610919503,
          -1.667158276023129,
          -3.0377604379683745
         ]
        },
        {
         "line": {
          "color": "red",
          "width": 2
         },
         "name": "Eigenvector 2",
         "showlegend": false,
         "type": "scatter",
         "visible": false,
         "x": [
          0,
          0.05,
          0.06107013790800849,
          0.07459123488206353,
          0.09110594001952546,
          0.1112770464246234,
          0.13591409142295227,
          0.16600584613682742,
          0.20275999834223377,
          0.24765162121975576
         ],
         "y": [
          0,
          0.025,
          0.030535068954004246,
          0.03729561744103176,
          0.04555297000976273,
          0.0556385232123117,
          0.06795704571147614,
          0.08300292306841371,
          0.10137999917111688,
          0.12382581060987788
         ]
        },
        {
         "line": {
          "color": "black",
          "width": 2
         },
         "name": "Solution",
         "showlegend": false,
         "type": "scatter",
         "visible": false,
         "x": [
          0.1,
          0.15217607792753396,
          0.24059708101889093,
          0.39358831324017285,
          0.6624358654567036,
          1.1401909375823356,
          1.995917568320728,
          3.5370765503884916,
          6.323172497156505
         ],
         "y": [
          0,
          -0.015017901055758485,
          -0.04570730562738195,
          -0.10568821660056095,
          -0.2199408863037284,
          -0.43418137736821555,
          -0.8319529380235365,
          -1.565778276852012,
          -2.9139346273584965
         ]
        },
        {
         "line": {
          "color": "gray",
          "dash": "dash",
          "width": 1
         },
         "name": "Decomposition",
         "showlegend": false,
         "type": "scatter",
         "visible": false,
         "x": [
          6.075520875936749,
          6.323172497156505,
          0.24765162121975576
         ],
         "y": [
          -3.0377604379683745,
          -2.9139346273584965,
          0.12382581060987788
         ]
        },
        {
         "line": {
          "color": "blue",
          "width": 2
         },
         "name": "Eigenvector 1",
         "showlegend": false,
         "type": "scatter",
         "visible": false,
         "x": [
          0,
          0.05,
          0.09110594001952546,
          0.16600584613682742,
          0.30248237322064736,
          0.5511588190320802,
          1.0042768461593834,
          1.8299117221839005,
          3.334316552046258,
          6.075520875936749,
          11.07032081020936
         ],
         "y": [
          0,
          -0.025,
          -0.04555297000976273,
          -0.08300292306841371,
          -0.15124118661032368,
          -0.2755794095160401,
          -0.5021384230796917,
          -0.9149558610919503,
          -1.667158276023129,
          -3.0377604379683745,
          -5.53516040510468
         ]
        },
        {
         "line": {
          "color": "red",
          "width": 2
         },
         "name": "Eigenvector 2",
         "showlegend": false,
         "type": "scatter",
         "visible": false,
         "x": [
          0,
          0.05,
          0.06107013790800849,
          0.07459123488206353,
          0.09110594001952546,
          0.1112770464246234,
          0.13591409142295227,
          0.16600584613682742,
          0.20275999834223377,
          0.24765162121975576,
          0.3024823732206473
         ],
         "y": [
          0,
          0.025,
          0.030535068954004246,
          0.03729561744103176,
          0.04555297000976273,
          0.0556385232123117,
          0.06795704571147614,
          0.08300292306841371,
          0.10137999917111688,
          0.12382581060987788,
          0.15124118661032365
         ]
        },
        {
         "line": {
          "color": "black",
          "width": 2
         },
         "name": "Solution",
         "showlegend": false,
         "type": "scatter",
         "visible": false,
         "x": [
          0.1,
          0.15217607792753396,
          0.24059708101889093,
          0.39358831324017285,
          0.6624358654567036,
          1.1401909375823356,
          1.995917568320728,
          3.5370765503884916,
          6.323172497156505,
          11.372803183430007
         ],
         "y": [
          0,
          -0.015017901055758485,
          -0.04570730562738195,
          -0.10568821660056095,
          -0.2199408863037284,
          -0.43418137736821555,
          -0.8319529380235365,
          -1.565778276852012,
          -2.9139346273584965,
          -5.3839192184943565
         ]
        },
        {
         "line": {
          "color": "gray",
          "dash": "dash",
          "width": 1
         },
         "name": "Decomposition",
         "showlegend": false,
         "type": "scatter",
         "visible": false,
         "x": [
          11.07032081020936,
          11.372803183430007,
          0.3024823732206473
         ],
         "y": [
          -5.53516040510468,
          -5.3839192184943565,
          0.15124118661032365
         ]
        }
       ],
       "layout": {
        "sliders": [
         {
          "active": 0,
          "currentvalue": {
           "prefix": "Step = "
          },
          "pad": {
           "t": 50
          },
          "steps": [
           {
            "args": [
             {
              "visible": [
               true,
               true,
               true,
               true,
               false,
               false,
               false,
               false,
               false,
               false,
               false,
               false,
               false,
               false,
               false,
               false,
               false,
               false,
               false,
               false,
               false,
               false,
               false,
               false,
               false,
               false,
               false,
               false,
               false,
               false,
               false,
               false,
               false,
               false,
               false,
               false,
               false,
               false,
               false,
               false
              ]
             }
            ],
            "label": "1",
            "method": "update"
           },
           {
            "args": [
             {
              "visible": [
               true,
               true,
               true,
               true,
               true,
               true,
               true,
               true,
               false,
               false,
               false,
               false,
               false,
               false,
               false,
               false,
               false,
               false,
               false,
               false,
               false,
               false,
               false,
               false,
               false,
               false,
               false,
               false,
               false,
               false,
               false,
               false,
               false,
               false,
               false,
               false,
               false,
               false,
               false,
               false
              ]
             }
            ],
            "label": "2",
            "method": "update"
           },
           {
            "args": [
             {
              "visible": [
               true,
               true,
               true,
               true,
               true,
               true,
               true,
               true,
               true,
               true,
               true,
               true,
               false,
               false,
               false,
               false,
               false,
               false,
               false,
               false,
               false,
               false,
               false,
               false,
               false,
               false,
               false,
               false,
               false,
               false,
               false,
               false,
               false,
               false,
               false,
               false,
               false,
               false,
               false,
               false
              ]
             }
            ],
            "label": "3",
            "method": "update"
           },
           {
            "args": [
             {
              "visible": [
               true,
               true,
               true,
               true,
               true,
               true,
               true,
               true,
               true,
               true,
               true,
               true,
               true,
               true,
               true,
               true,
               false,
               false,
               false,
               false,
               false,
               false,
               false,
               false,
               false,
               false,
               false,
               false,
               false,
               false,
               false,
               false,
               false,
               false,
               false,
               false,
               false,
               false,
               false,
               false
              ]
             }
            ],
            "label": "4",
            "method": "update"
           },
           {
            "args": [
             {
              "visible": [
               true,
               true,
               true,
               true,
               true,
               true,
               true,
               true,
               true,
               true,
               true,
               true,
               true,
               true,
               true,
               true,
               true,
               true,
               true,
               true,
               false,
               false,
               false,
               false,
               false,
               false,
               false,
               false,
               false,
               false,
               false,
               false,
               false,
               false,
               false,
               false,
               false,
               false,
               false,
               false
              ]
             }
            ],
            "label": "5",
            "method": "update"
           },
           {
            "args": [
             {
              "visible": [
               true,
               true,
               true,
               true,
               true,
               true,
               true,
               true,
               true,
               true,
               true,
               true,
               true,
               true,
               true,
               true,
               true,
               true,
               true,
               true,
               true,
               true,
               true,
               true,
               false,
               false,
               false,
               false,
               false,
               false,
               false,
               false,
               false,
               false,
               false,
               false,
               false,
               false,
               false,
               false
              ]
             }
            ],
            "label": "6",
            "method": "update"
           },
           {
            "args": [
             {
              "visible": [
               true,
               true,
               true,
               true,
               true,
               true,
               true,
               true,
               true,
               true,
               true,
               true,
               true,
               true,
               true,
               true,
               true,
               true,
               true,
               true,
               true,
               true,
               true,
               true,
               true,
               true,
               true,
               true,
               false,
               false,
               false,
               false,
               false,
               false,
               false,
               false,
               false,
               false,
               false,
               false
              ]
             }
            ],
            "label": "7",
            "method": "update"
           },
           {
            "args": [
             {
              "visible": [
               true,
               true,
               true,
               true,
               true,
               true,
               true,
               true,
               true,
               true,
               true,
               true,
               true,
               true,
               true,
               true,
               true,
               true,
               true,
               true,
               true,
               true,
               true,
               true,
               true,
               true,
               true,
               true,
               true,
               true,
               true,
               true,
               false,
               false,
               false,
               false,
               false,
               false,
               false,
               false
              ]
             }
            ],
            "label": "8",
            "method": "update"
           },
           {
            "args": [
             {
              "visible": [
               true,
               true,
               true,
               true,
               true,
               true,
               true,
               true,
               true,
               true,
               true,
               true,
               true,
               true,
               true,
               true,
               true,
               true,
               true,
               true,
               true,
               true,
               true,
               true,
               true,
               true,
               true,
               true,
               true,
               true,
               true,
               true,
               true,
               true,
               true,
               true,
               false,
               false,
               false,
               false
              ]
             }
            ],
            "label": "9",
            "method": "update"
           },
           {
            "args": [
             {
              "visible": [
               true,
               true,
               true,
               true,
               true,
               true,
               true,
               true,
               true,
               true,
               true,
               true,
               true,
               true,
               true,
               true,
               true,
               true,
               true,
               true,
               true,
               true,
               true,
               true,
               true,
               true,
               true,
               true,
               true,
               true,
               true,
               true,
               true,
               true,
               true,
               true,
               true,
               true,
               true,
               true
              ]
             }
            ],
            "label": "10",
            "method": "update"
           }
          ]
         }
        ],
        "template": {
         "data": {
          "bar": [
           {
            "error_x": {
             "color": "#2a3f5f"
            },
            "error_y": {
             "color": "#2a3f5f"
            },
            "marker": {
             "line": {
              "color": "#E5ECF6",
              "width": 0.5
             },
             "pattern": {
              "fillmode": "overlay",
              "size": 10,
              "solidity": 0.2
             }
            },
            "type": "bar"
           }
          ],
          "barpolar": [
           {
            "marker": {
             "line": {
              "color": "#E5ECF6",
              "width": 0.5
             },
             "pattern": {
              "fillmode": "overlay",
              "size": 10,
              "solidity": 0.2
             }
            },
            "type": "barpolar"
           }
          ],
          "carpet": [
           {
            "aaxis": {
             "endlinecolor": "#2a3f5f",
             "gridcolor": "white",
             "linecolor": "white",
             "minorgridcolor": "white",
             "startlinecolor": "#2a3f5f"
            },
            "baxis": {
             "endlinecolor": "#2a3f5f",
             "gridcolor": "white",
             "linecolor": "white",
             "minorgridcolor": "white",
             "startlinecolor": "#2a3f5f"
            },
            "type": "carpet"
           }
          ],
          "choropleth": [
           {
            "colorbar": {
             "outlinewidth": 0,
             "ticks": ""
            },
            "type": "choropleth"
           }
          ],
          "contour": [
           {
            "colorbar": {
             "outlinewidth": 0,
             "ticks": ""
            },
            "colorscale": [
             [
              0,
              "#0d0887"
             ],
             [
              0.1111111111111111,
              "#46039f"
             ],
             [
              0.2222222222222222,
              "#7201a8"
             ],
             [
              0.3333333333333333,
              "#9c179e"
             ],
             [
              0.4444444444444444,
              "#bd3786"
             ],
             [
              0.5555555555555556,
              "#d8576b"
             ],
             [
              0.6666666666666666,
              "#ed7953"
             ],
             [
              0.7777777777777778,
              "#fb9f3a"
             ],
             [
              0.8888888888888888,
              "#fdca26"
             ],
             [
              1,
              "#f0f921"
             ]
            ],
            "type": "contour"
           }
          ],
          "contourcarpet": [
           {
            "colorbar": {
             "outlinewidth": 0,
             "ticks": ""
            },
            "type": "contourcarpet"
           }
          ],
          "heatmap": [
           {
            "colorbar": {
             "outlinewidth": 0,
             "ticks": ""
            },
            "colorscale": [
             [
              0,
              "#0d0887"
             ],
             [
              0.1111111111111111,
              "#46039f"
             ],
             [
              0.2222222222222222,
              "#7201a8"
             ],
             [
              0.3333333333333333,
              "#9c179e"
             ],
             [
              0.4444444444444444,
              "#bd3786"
             ],
             [
              0.5555555555555556,
              "#d8576b"
             ],
             [
              0.6666666666666666,
              "#ed7953"
             ],
             [
              0.7777777777777778,
              "#fb9f3a"
             ],
             [
              0.8888888888888888,
              "#fdca26"
             ],
             [
              1,
              "#f0f921"
             ]
            ],
            "type": "heatmap"
           }
          ],
          "heatmapgl": [
           {
            "colorbar": {
             "outlinewidth": 0,
             "ticks": ""
            },
            "colorscale": [
             [
              0,
              "#0d0887"
             ],
             [
              0.1111111111111111,
              "#46039f"
             ],
             [
              0.2222222222222222,
              "#7201a8"
             ],
             [
              0.3333333333333333,
              "#9c179e"
             ],
             [
              0.4444444444444444,
              "#bd3786"
             ],
             [
              0.5555555555555556,
              "#d8576b"
             ],
             [
              0.6666666666666666,
              "#ed7953"
             ],
             [
              0.7777777777777778,
              "#fb9f3a"
             ],
             [
              0.8888888888888888,
              "#fdca26"
             ],
             [
              1,
              "#f0f921"
             ]
            ],
            "type": "heatmapgl"
           }
          ],
          "histogram": [
           {
            "marker": {
             "pattern": {
              "fillmode": "overlay",
              "size": 10,
              "solidity": 0.2
             }
            },
            "type": "histogram"
           }
          ],
          "histogram2d": [
           {
            "colorbar": {
             "outlinewidth": 0,
             "ticks": ""
            },
            "colorscale": [
             [
              0,
              "#0d0887"
             ],
             [
              0.1111111111111111,
              "#46039f"
             ],
             [
              0.2222222222222222,
              "#7201a8"
             ],
             [
              0.3333333333333333,
              "#9c179e"
             ],
             [
              0.4444444444444444,
              "#bd3786"
             ],
             [
              0.5555555555555556,
              "#d8576b"
             ],
             [
              0.6666666666666666,
              "#ed7953"
             ],
             [
              0.7777777777777778,
              "#fb9f3a"
             ],
             [
              0.8888888888888888,
              "#fdca26"
             ],
             [
              1,
              "#f0f921"
             ]
            ],
            "type": "histogram2d"
           }
          ],
          "histogram2dcontour": [
           {
            "colorbar": {
             "outlinewidth": 0,
             "ticks": ""
            },
            "colorscale": [
             [
              0,
              "#0d0887"
             ],
             [
              0.1111111111111111,
              "#46039f"
             ],
             [
              0.2222222222222222,
              "#7201a8"
             ],
             [
              0.3333333333333333,
              "#9c179e"
             ],
             [
              0.4444444444444444,
              "#bd3786"
             ],
             [
              0.5555555555555556,
              "#d8576b"
             ],
             [
              0.6666666666666666,
              "#ed7953"
             ],
             [
              0.7777777777777778,
              "#fb9f3a"
             ],
             [
              0.8888888888888888,
              "#fdca26"
             ],
             [
              1,
              "#f0f921"
             ]
            ],
            "type": "histogram2dcontour"
           }
          ],
          "mesh3d": [
           {
            "colorbar": {
             "outlinewidth": 0,
             "ticks": ""
            },
            "type": "mesh3d"
           }
          ],
          "parcoords": [
           {
            "line": {
             "colorbar": {
              "outlinewidth": 0,
              "ticks": ""
             }
            },
            "type": "parcoords"
           }
          ],
          "pie": [
           {
            "automargin": true,
            "type": "pie"
           }
          ],
          "scatter": [
           {
            "marker": {
             "colorbar": {
              "outlinewidth": 0,
              "ticks": ""
             }
            },
            "type": "scatter"
           }
          ],
          "scatter3d": [
           {
            "line": {
             "colorbar": {
              "outlinewidth": 0,
              "ticks": ""
             }
            },
            "marker": {
             "colorbar": {
              "outlinewidth": 0,
              "ticks": ""
             }
            },
            "type": "scatter3d"
           }
          ],
          "scattercarpet": [
           {
            "marker": {
             "colorbar": {
              "outlinewidth": 0,
              "ticks": ""
             }
            },
            "type": "scattercarpet"
           }
          ],
          "scattergeo": [
           {
            "marker": {
             "colorbar": {
              "outlinewidth": 0,
              "ticks": ""
             }
            },
            "type": "scattergeo"
           }
          ],
          "scattergl": [
           {
            "marker": {
             "colorbar": {
              "outlinewidth": 0,
              "ticks": ""
             }
            },
            "type": "scattergl"
           }
          ],
          "scattermapbox": [
           {
            "marker": {
             "colorbar": {
              "outlinewidth": 0,
              "ticks": ""
             }
            },
            "type": "scattermapbox"
           }
          ],
          "scatterpolar": [
           {
            "marker": {
             "colorbar": {
              "outlinewidth": 0,
              "ticks": ""
             }
            },
            "type": "scatterpolar"
           }
          ],
          "scatterpolargl": [
           {
            "marker": {
             "colorbar": {
              "outlinewidth": 0,
              "ticks": ""
             }
            },
            "type": "scatterpolargl"
           }
          ],
          "scatterternary": [
           {
            "marker": {
             "colorbar": {
              "outlinewidth": 0,
              "ticks": ""
             }
            },
            "type": "scatterternary"
           }
          ],
          "surface": [
           {
            "colorbar": {
             "outlinewidth": 0,
             "ticks": ""
            },
            "colorscale": [
             [
              0,
              "#0d0887"
             ],
             [
              0.1111111111111111,
              "#46039f"
             ],
             [
              0.2222222222222222,
              "#7201a8"
             ],
             [
              0.3333333333333333,
              "#9c179e"
             ],
             [
              0.4444444444444444,
              "#bd3786"
             ],
             [
              0.5555555555555556,
              "#d8576b"
             ],
             [
              0.6666666666666666,
              "#ed7953"
             ],
             [
              0.7777777777777778,
              "#fb9f3a"
             ],
             [
              0.8888888888888888,
              "#fdca26"
             ],
             [
              1,
              "#f0f921"
             ]
            ],
            "type": "surface"
           }
          ],
          "table": [
           {
            "cells": {
             "fill": {
              "color": "#EBF0F8"
             },
             "line": {
              "color": "white"
             }
            },
            "header": {
             "fill": {
              "color": "#C8D4E3"
             },
             "line": {
              "color": "white"
             }
            },
            "type": "table"
           }
          ]
         },
         "layout": {
          "annotationdefaults": {
           "arrowcolor": "#2a3f5f",
           "arrowhead": 0,
           "arrowwidth": 1
          },
          "autotypenumbers": "strict",
          "coloraxis": {
           "colorbar": {
            "outlinewidth": 0,
            "ticks": ""
           }
          },
          "colorscale": {
           "diverging": [
            [
             0,
             "#8e0152"
            ],
            [
             0.1,
             "#c51b7d"
            ],
            [
             0.2,
             "#de77ae"
            ],
            [
             0.3,
             "#f1b6da"
            ],
            [
             0.4,
             "#fde0ef"
            ],
            [
             0.5,
             "#f7f7f7"
            ],
            [
             0.6,
             "#e6f5d0"
            ],
            [
             0.7,
             "#b8e186"
            ],
            [
             0.8,
             "#7fbc41"
            ],
            [
             0.9,
             "#4d9221"
            ],
            [
             1,
             "#276419"
            ]
           ],
           "sequential": [
            [
             0,
             "#0d0887"
            ],
            [
             0.1111111111111111,
             "#46039f"
            ],
            [
             0.2222222222222222,
             "#7201a8"
            ],
            [
             0.3333333333333333,
             "#9c179e"
            ],
            [
             0.4444444444444444,
             "#bd3786"
            ],
            [
             0.5555555555555556,
             "#d8576b"
            ],
            [
             0.6666666666666666,
             "#ed7953"
            ],
            [
             0.7777777777777778,
             "#fb9f3a"
            ],
            [
             0.8888888888888888,
             "#fdca26"
            ],
            [
             1,
             "#f0f921"
            ]
           ],
           "sequentialminus": [
            [
             0,
             "#0d0887"
            ],
            [
             0.1111111111111111,
             "#46039f"
            ],
            [
             0.2222222222222222,
             "#7201a8"
            ],
            [
             0.3333333333333333,
             "#9c179e"
            ],
            [
             0.4444444444444444,
             "#bd3786"
            ],
            [
             0.5555555555555556,
             "#d8576b"
            ],
            [
             0.6666666666666666,
             "#ed7953"
            ],
            [
             0.7777777777777778,
             "#fb9f3a"
            ],
            [
             0.8888888888888888,
             "#fdca26"
            ],
            [
             1,
             "#f0f921"
            ]
           ]
          },
          "colorway": [
           "#636efa",
           "#EF553B",
           "#00cc96",
           "#ab63fa",
           "#FFA15A",
           "#19d3f3",
           "#FF6692",
           "#B6E880",
           "#FF97FF",
           "#FECB52"
          ],
          "font": {
           "color": "#2a3f5f"
          },
          "geo": {
           "bgcolor": "white",
           "lakecolor": "white",
           "landcolor": "#E5ECF6",
           "showlakes": true,
           "showland": true,
           "subunitcolor": "white"
          },
          "hoverlabel": {
           "align": "left"
          },
          "hovermode": "closest",
          "mapbox": {
           "style": "light"
          },
          "paper_bgcolor": "white",
          "plot_bgcolor": "#E5ECF6",
          "polar": {
           "angularaxis": {
            "gridcolor": "white",
            "linecolor": "white",
            "ticks": ""
           },
           "bgcolor": "#E5ECF6",
           "radialaxis": {
            "gridcolor": "white",
            "linecolor": "white",
            "ticks": ""
           }
          },
          "scene": {
           "xaxis": {
            "backgroundcolor": "#E5ECF6",
            "gridcolor": "white",
            "gridwidth": 2,
            "linecolor": "white",
            "showbackground": true,
            "ticks": "",
            "zerolinecolor": "white"
           },
           "yaxis": {
            "backgroundcolor": "#E5ECF6",
            "gridcolor": "white",
            "gridwidth": 2,
            "linecolor": "white",
            "showbackground": true,
            "ticks": "",
            "zerolinecolor": "white"
           },
           "zaxis": {
            "backgroundcolor": "#E5ECF6",
            "gridcolor": "white",
            "gridwidth": 2,
            "linecolor": "white",
            "showbackground": true,
            "ticks": "",
            "zerolinecolor": "white"
           }
          },
          "shapedefaults": {
           "line": {
            "color": "#2a3f5f"
           }
          },
          "ternary": {
           "aaxis": {
            "gridcolor": "white",
            "linecolor": "white",
            "ticks": ""
           },
           "baxis": {
            "gridcolor": "white",
            "linecolor": "white",
            "ticks": ""
           },
           "bgcolor": "#E5ECF6",
           "caxis": {
            "gridcolor": "white",
            "linecolor": "white",
            "ticks": ""
           }
          },
          "title": {
           "x": 0.05
          },
          "xaxis": {
           "automargin": true,
           "gridcolor": "white",
           "linecolor": "white",
           "ticks": "",
           "title": {
            "standoff": 15
           },
           "zerolinecolor": "white",
           "zerolinewidth": 2
          },
          "yaxis": {
           "automargin": true,
           "gridcolor": "white",
           "linecolor": "white",
           "ticks": "",
           "title": {
            "standoff": 15
           },
           "zerolinecolor": "white",
           "zerolinewidth": 2
          }
         }
        },
        "xaxis": {
         "title": {
          "text": "x"
         }
        },
        "yaxis": {
         "title": {
          "text": "y"
         }
        }
       }
      },
      "text/html": [
       "<div>                            <div id=\"bc392e1d-b1eb-43ff-b555-589acb1bbf25\" class=\"plotly-graph-div\" style=\"height:525px; width:100%;\"></div>            <script type=\"text/javascript\">                require([\"plotly\"], function(Plotly) {                    window.PLOTLYENV=window.PLOTLYENV || {};                                    if (document.getElementById(\"bc392e1d-b1eb-43ff-b555-589acb1bbf25\")) {                    Plotly.newPlot(                        \"bc392e1d-b1eb-43ff-b555-589acb1bbf25\",                        [{\"line\":{\"color\":\"blue\",\"width\":2},\"name\":\"Eigenvector 1\",\"showlegend\":true,\"visible\":true,\"x\":[0.0,0.05],\"y\":[0.0,-0.025],\"type\":\"scatter\"},{\"line\":{\"color\":\"red\",\"width\":2},\"name\":\"Eigenvector 2\",\"showlegend\":true,\"visible\":true,\"x\":[0.0,0.05],\"y\":[0.0,0.025],\"type\":\"scatter\"},{\"line\":{\"color\":\"black\",\"width\":2},\"name\":\"Solution\",\"showlegend\":true,\"visible\":true,\"x\":[0.1],\"y\":[0.0],\"type\":\"scatter\"},{\"line\":{\"color\":\"gray\",\"dash\":\"dash\",\"width\":1},\"name\":\"Decomposition\",\"showlegend\":true,\"visible\":true,\"x\":[0.05,0.1,0.05],\"y\":[-0.025,0.0,0.025],\"type\":\"scatter\"},{\"line\":{\"color\":\"blue\",\"width\":2},\"name\":\"Eigenvector 1\",\"showlegend\":false,\"visible\":false,\"x\":[0.0,0.05,0.09110594001952546],\"y\":[0.0,-0.025,-0.04555297000976273],\"type\":\"scatter\"},{\"line\":{\"color\":\"red\",\"width\":2},\"name\":\"Eigenvector 2\",\"showlegend\":false,\"visible\":false,\"x\":[0.0,0.05,0.06107013790800849],\"y\":[0.0,0.025,0.030535068954004246],\"type\":\"scatter\"},{\"line\":{\"color\":\"black\",\"width\":2},\"name\":\"Solution\",\"showlegend\":false,\"visible\":false,\"x\":[0.1,0.15217607792753396],\"y\":[0.0,-0.015017901055758485],\"type\":\"scatter\"},{\"line\":{\"color\":\"gray\",\"dash\":\"dash\",\"width\":1},\"name\":\"Decomposition\",\"showlegend\":false,\"visible\":false,\"x\":[0.09110594001952546,0.15217607792753396,0.06107013790800849],\"y\":[-0.04555297000976273,-0.015017901055758485,0.030535068954004246],\"type\":\"scatter\"},{\"line\":{\"color\":\"blue\",\"width\":2},\"name\":\"Eigenvector 1\",\"showlegend\":false,\"visible\":false,\"x\":[0.0,0.05,0.09110594001952546,0.16600584613682742],\"y\":[0.0,-0.025,-0.04555297000976273,-0.08300292306841371],\"type\":\"scatter\"},{\"line\":{\"color\":\"red\",\"width\":2},\"name\":\"Eigenvector 2\",\"showlegend\":false,\"visible\":false,\"x\":[0.0,0.05,0.06107013790800849,0.07459123488206353],\"y\":[0.0,0.025,0.030535068954004246,0.03729561744103176],\"type\":\"scatter\"},{\"line\":{\"color\":\"black\",\"width\":2},\"name\":\"Solution\",\"showlegend\":false,\"visible\":false,\"x\":[0.1,0.15217607792753396,0.24059708101889093],\"y\":[0.0,-0.015017901055758485,-0.04570730562738195],\"type\":\"scatter\"},{\"line\":{\"color\":\"gray\",\"dash\":\"dash\",\"width\":1},\"name\":\"Decomposition\",\"showlegend\":false,\"visible\":false,\"x\":[0.16600584613682742,0.24059708101889093,0.07459123488206353],\"y\":[-0.08300292306841371,-0.04570730562738195,0.03729561744103176],\"type\":\"scatter\"},{\"line\":{\"color\":\"blue\",\"width\":2},\"name\":\"Eigenvector 1\",\"showlegend\":false,\"visible\":false,\"x\":[0.0,0.05,0.09110594001952546,0.16600584613682742,0.30248237322064736],\"y\":[0.0,-0.025,-0.04555297000976273,-0.08300292306841371,-0.15124118661032368],\"type\":\"scatter\"},{\"line\":{\"color\":\"red\",\"width\":2},\"name\":\"Eigenvector 2\",\"showlegend\":false,\"visible\":false,\"x\":[0.0,0.05,0.06107013790800849,0.07459123488206353,0.09110594001952546],\"y\":[0.0,0.025,0.030535068954004246,0.03729561744103176,0.04555297000976273],\"type\":\"scatter\"},{\"line\":{\"color\":\"black\",\"width\":2},\"name\":\"Solution\",\"showlegend\":false,\"visible\":false,\"x\":[0.1,0.15217607792753396,0.24059708101889093,0.39358831324017285],\"y\":[0.0,-0.015017901055758485,-0.04570730562738195,-0.10568821660056095],\"type\":\"scatter\"},{\"line\":{\"color\":\"gray\",\"dash\":\"dash\",\"width\":1},\"name\":\"Decomposition\",\"showlegend\":false,\"visible\":false,\"x\":[0.30248237322064736,0.39358831324017285,0.09110594001952546],\"y\":[-0.15124118661032368,-0.10568821660056095,0.04555297000976273],\"type\":\"scatter\"},{\"line\":{\"color\":\"blue\",\"width\":2},\"name\":\"Eigenvector 1\",\"showlegend\":false,\"visible\":false,\"x\":[0.0,0.05,0.09110594001952546,0.16600584613682742,0.30248237322064736,0.5511588190320802],\"y\":[0.0,-0.025,-0.04555297000976273,-0.08300292306841371,-0.15124118661032368,-0.2755794095160401],\"type\":\"scatter\"},{\"line\":{\"color\":\"red\",\"width\":2},\"name\":\"Eigenvector 2\",\"showlegend\":false,\"visible\":false,\"x\":[0.0,0.05,0.06107013790800849,0.07459123488206353,0.09110594001952546,0.1112770464246234],\"y\":[0.0,0.025,0.030535068954004246,0.03729561744103176,0.04555297000976273,0.0556385232123117],\"type\":\"scatter\"},{\"line\":{\"color\":\"black\",\"width\":2},\"name\":\"Solution\",\"showlegend\":false,\"visible\":false,\"x\":[0.1,0.15217607792753396,0.24059708101889093,0.39358831324017285,0.6624358654567036],\"y\":[0.0,-0.015017901055758485,-0.04570730562738195,-0.10568821660056095,-0.2199408863037284],\"type\":\"scatter\"},{\"line\":{\"color\":\"gray\",\"dash\":\"dash\",\"width\":1},\"name\":\"Decomposition\",\"showlegend\":false,\"visible\":false,\"x\":[0.5511588190320802,0.6624358654567036,0.1112770464246234],\"y\":[-0.2755794095160401,-0.2199408863037284,0.0556385232123117],\"type\":\"scatter\"},{\"line\":{\"color\":\"blue\",\"width\":2},\"name\":\"Eigenvector 1\",\"showlegend\":false,\"visible\":false,\"x\":[0.0,0.05,0.09110594001952546,0.16600584613682742,0.30248237322064736,0.5511588190320802,1.0042768461593834],\"y\":[0.0,-0.025,-0.04555297000976273,-0.08300292306841371,-0.15124118661032368,-0.2755794095160401,-0.5021384230796917],\"type\":\"scatter\"},{\"line\":{\"color\":\"red\",\"width\":2},\"name\":\"Eigenvector 2\",\"showlegend\":false,\"visible\":false,\"x\":[0.0,0.05,0.06107013790800849,0.07459123488206353,0.09110594001952546,0.1112770464246234,0.13591409142295227],\"y\":[0.0,0.025,0.030535068954004246,0.03729561744103176,0.04555297000976273,0.0556385232123117,0.06795704571147614],\"type\":\"scatter\"},{\"line\":{\"color\":\"black\",\"width\":2},\"name\":\"Solution\",\"showlegend\":false,\"visible\":false,\"x\":[0.1,0.15217607792753396,0.24059708101889093,0.39358831324017285,0.6624358654567036,1.1401909375823356],\"y\":[0.0,-0.015017901055758485,-0.04570730562738195,-0.10568821660056095,-0.2199408863037284,-0.43418137736821555],\"type\":\"scatter\"},{\"line\":{\"color\":\"gray\",\"dash\":\"dash\",\"width\":1},\"name\":\"Decomposition\",\"showlegend\":false,\"visible\":false,\"x\":[1.0042768461593834,1.1401909375823356,0.13591409142295227],\"y\":[-0.5021384230796917,-0.43418137736821555,0.06795704571147614],\"type\":\"scatter\"},{\"line\":{\"color\":\"blue\",\"width\":2},\"name\":\"Eigenvector 1\",\"showlegend\":false,\"visible\":false,\"x\":[0.0,0.05,0.09110594001952546,0.16600584613682742,0.30248237322064736,0.5511588190320802,1.0042768461593834,1.8299117221839005],\"y\":[0.0,-0.025,-0.04555297000976273,-0.08300292306841371,-0.15124118661032368,-0.2755794095160401,-0.5021384230796917,-0.9149558610919503],\"type\":\"scatter\"},{\"line\":{\"color\":\"red\",\"width\":2},\"name\":\"Eigenvector 2\",\"showlegend\":false,\"visible\":false,\"x\":[0.0,0.05,0.06107013790800849,0.07459123488206353,0.09110594001952546,0.1112770464246234,0.13591409142295227,0.16600584613682742],\"y\":[0.0,0.025,0.030535068954004246,0.03729561744103176,0.04555297000976273,0.0556385232123117,0.06795704571147614,0.08300292306841371],\"type\":\"scatter\"},{\"line\":{\"color\":\"black\",\"width\":2},\"name\":\"Solution\",\"showlegend\":false,\"visible\":false,\"x\":[0.1,0.15217607792753396,0.24059708101889093,0.39358831324017285,0.6624358654567036,1.1401909375823356,1.995917568320728],\"y\":[0.0,-0.015017901055758485,-0.04570730562738195,-0.10568821660056095,-0.2199408863037284,-0.43418137736821555,-0.8319529380235365],\"type\":\"scatter\"},{\"line\":{\"color\":\"gray\",\"dash\":\"dash\",\"width\":1},\"name\":\"Decomposition\",\"showlegend\":false,\"visible\":false,\"x\":[1.8299117221839005,1.995917568320728,0.16600584613682742],\"y\":[-0.9149558610919503,-0.8319529380235365,0.08300292306841371],\"type\":\"scatter\"},{\"line\":{\"color\":\"blue\",\"width\":2},\"name\":\"Eigenvector 1\",\"showlegend\":false,\"visible\":false,\"x\":[0.0,0.05,0.09110594001952546,0.16600584613682742,0.30248237322064736,0.5511588190320802,1.0042768461593834,1.8299117221839005,3.334316552046258],\"y\":[0.0,-0.025,-0.04555297000976273,-0.08300292306841371,-0.15124118661032368,-0.2755794095160401,-0.5021384230796917,-0.9149558610919503,-1.667158276023129],\"type\":\"scatter\"},{\"line\":{\"color\":\"red\",\"width\":2},\"name\":\"Eigenvector 2\",\"showlegend\":false,\"visible\":false,\"x\":[0.0,0.05,0.06107013790800849,0.07459123488206353,0.09110594001952546,0.1112770464246234,0.13591409142295227,0.16600584613682742,0.20275999834223377],\"y\":[0.0,0.025,0.030535068954004246,0.03729561744103176,0.04555297000976273,0.0556385232123117,0.06795704571147614,0.08300292306841371,0.10137999917111688],\"type\":\"scatter\"},{\"line\":{\"color\":\"black\",\"width\":2},\"name\":\"Solution\",\"showlegend\":false,\"visible\":false,\"x\":[0.1,0.15217607792753396,0.24059708101889093,0.39358831324017285,0.6624358654567036,1.1401909375823356,1.995917568320728,3.5370765503884916],\"y\":[0.0,-0.015017901055758485,-0.04570730562738195,-0.10568821660056095,-0.2199408863037284,-0.43418137736821555,-0.8319529380235365,-1.565778276852012],\"type\":\"scatter\"},{\"line\":{\"color\":\"gray\",\"dash\":\"dash\",\"width\":1},\"name\":\"Decomposition\",\"showlegend\":false,\"visible\":false,\"x\":[3.334316552046258,3.5370765503884916,0.20275999834223377],\"y\":[-1.667158276023129,-1.565778276852012,0.10137999917111688],\"type\":\"scatter\"},{\"line\":{\"color\":\"blue\",\"width\":2},\"name\":\"Eigenvector 1\",\"showlegend\":false,\"visible\":false,\"x\":[0.0,0.05,0.09110594001952546,0.16600584613682742,0.30248237322064736,0.5511588190320802,1.0042768461593834,1.8299117221839005,3.334316552046258,6.075520875936749],\"y\":[0.0,-0.025,-0.04555297000976273,-0.08300292306841371,-0.15124118661032368,-0.2755794095160401,-0.5021384230796917,-0.9149558610919503,-1.667158276023129,-3.0377604379683745],\"type\":\"scatter\"},{\"line\":{\"color\":\"red\",\"width\":2},\"name\":\"Eigenvector 2\",\"showlegend\":false,\"visible\":false,\"x\":[0.0,0.05,0.06107013790800849,0.07459123488206353,0.09110594001952546,0.1112770464246234,0.13591409142295227,0.16600584613682742,0.20275999834223377,0.24765162121975576],\"y\":[0.0,0.025,0.030535068954004246,0.03729561744103176,0.04555297000976273,0.0556385232123117,0.06795704571147614,0.08300292306841371,0.10137999917111688,0.12382581060987788],\"type\":\"scatter\"},{\"line\":{\"color\":\"black\",\"width\":2},\"name\":\"Solution\",\"showlegend\":false,\"visible\":false,\"x\":[0.1,0.15217607792753396,0.24059708101889093,0.39358831324017285,0.6624358654567036,1.1401909375823356,1.995917568320728,3.5370765503884916,6.323172497156505],\"y\":[0.0,-0.015017901055758485,-0.04570730562738195,-0.10568821660056095,-0.2199408863037284,-0.43418137736821555,-0.8319529380235365,-1.565778276852012,-2.9139346273584965],\"type\":\"scatter\"},{\"line\":{\"color\":\"gray\",\"dash\":\"dash\",\"width\":1},\"name\":\"Decomposition\",\"showlegend\":false,\"visible\":false,\"x\":[6.075520875936749,6.323172497156505,0.24765162121975576],\"y\":[-3.0377604379683745,-2.9139346273584965,0.12382581060987788],\"type\":\"scatter\"},{\"line\":{\"color\":\"blue\",\"width\":2},\"name\":\"Eigenvector 1\",\"showlegend\":false,\"visible\":false,\"x\":[0.0,0.05,0.09110594001952546,0.16600584613682742,0.30248237322064736,0.5511588190320802,1.0042768461593834,1.8299117221839005,3.334316552046258,6.075520875936749,11.07032081020936],\"y\":[0.0,-0.025,-0.04555297000976273,-0.08300292306841371,-0.15124118661032368,-0.2755794095160401,-0.5021384230796917,-0.9149558610919503,-1.667158276023129,-3.0377604379683745,-5.53516040510468],\"type\":\"scatter\"},{\"line\":{\"color\":\"red\",\"width\":2},\"name\":\"Eigenvector 2\",\"showlegend\":false,\"visible\":false,\"x\":[0.0,0.05,0.06107013790800849,0.07459123488206353,0.09110594001952546,0.1112770464246234,0.13591409142295227,0.16600584613682742,0.20275999834223377,0.24765162121975576,0.3024823732206473],\"y\":[0.0,0.025,0.030535068954004246,0.03729561744103176,0.04555297000976273,0.0556385232123117,0.06795704571147614,0.08300292306841371,0.10137999917111688,0.12382581060987788,0.15124118661032365],\"type\":\"scatter\"},{\"line\":{\"color\":\"black\",\"width\":2},\"name\":\"Solution\",\"showlegend\":false,\"visible\":false,\"x\":[0.1,0.15217607792753396,0.24059708101889093,0.39358831324017285,0.6624358654567036,1.1401909375823356,1.995917568320728,3.5370765503884916,6.323172497156505,11.372803183430007],\"y\":[0.0,-0.015017901055758485,-0.04570730562738195,-0.10568821660056095,-0.2199408863037284,-0.43418137736821555,-0.8319529380235365,-1.565778276852012,-2.9139346273584965,-5.3839192184943565],\"type\":\"scatter\"},{\"line\":{\"color\":\"gray\",\"dash\":\"dash\",\"width\":1},\"name\":\"Decomposition\",\"showlegend\":false,\"visible\":false,\"x\":[11.07032081020936,11.372803183430007,0.3024823732206473],\"y\":[-5.53516040510468,-5.3839192184943565,0.15124118661032365],\"type\":\"scatter\"}],                        {\"template\":{\"data\":{\"bar\":[{\"error_x\":{\"color\":\"#2a3f5f\"},\"error_y\":{\"color\":\"#2a3f5f\"},\"marker\":{\"line\":{\"color\":\"#E5ECF6\",\"width\":0.5},\"pattern\":{\"fillmode\":\"overlay\",\"size\":10,\"solidity\":0.2}},\"type\":\"bar\"}],\"barpolar\":[{\"marker\":{\"line\":{\"color\":\"#E5ECF6\",\"width\":0.5},\"pattern\":{\"fillmode\":\"overlay\",\"size\":10,\"solidity\":0.2}},\"type\":\"barpolar\"}],\"carpet\":[{\"aaxis\":{\"endlinecolor\":\"#2a3f5f\",\"gridcolor\":\"white\",\"linecolor\":\"white\",\"minorgridcolor\":\"white\",\"startlinecolor\":\"#2a3f5f\"},\"baxis\":{\"endlinecolor\":\"#2a3f5f\",\"gridcolor\":\"white\",\"linecolor\":\"white\",\"minorgridcolor\":\"white\",\"startlinecolor\":\"#2a3f5f\"},\"type\":\"carpet\"}],\"choropleth\":[{\"colorbar\":{\"outlinewidth\":0,\"ticks\":\"\"},\"type\":\"choropleth\"}],\"contour\":[{\"colorbar\":{\"outlinewidth\":0,\"ticks\":\"\"},\"colorscale\":[[0.0,\"#0d0887\"],[0.1111111111111111,\"#46039f\"],[0.2222222222222222,\"#7201a8\"],[0.3333333333333333,\"#9c179e\"],[0.4444444444444444,\"#bd3786\"],[0.5555555555555556,\"#d8576b\"],[0.6666666666666666,\"#ed7953\"],[0.7777777777777778,\"#fb9f3a\"],[0.8888888888888888,\"#fdca26\"],[1.0,\"#f0f921\"]],\"type\":\"contour\"}],\"contourcarpet\":[{\"colorbar\":{\"outlinewidth\":0,\"ticks\":\"\"},\"type\":\"contourcarpet\"}],\"heatmap\":[{\"colorbar\":{\"outlinewidth\":0,\"ticks\":\"\"},\"colorscale\":[[0.0,\"#0d0887\"],[0.1111111111111111,\"#46039f\"],[0.2222222222222222,\"#7201a8\"],[0.3333333333333333,\"#9c179e\"],[0.4444444444444444,\"#bd3786\"],[0.5555555555555556,\"#d8576b\"],[0.6666666666666666,\"#ed7953\"],[0.7777777777777778,\"#fb9f3a\"],[0.8888888888888888,\"#fdca26\"],[1.0,\"#f0f921\"]],\"type\":\"heatmap\"}],\"heatmapgl\":[{\"colorbar\":{\"outlinewidth\":0,\"ticks\":\"\"},\"colorscale\":[[0.0,\"#0d0887\"],[0.1111111111111111,\"#46039f\"],[0.2222222222222222,\"#7201a8\"],[0.3333333333333333,\"#9c179e\"],[0.4444444444444444,\"#bd3786\"],[0.5555555555555556,\"#d8576b\"],[0.6666666666666666,\"#ed7953\"],[0.7777777777777778,\"#fb9f3a\"],[0.8888888888888888,\"#fdca26\"],[1.0,\"#f0f921\"]],\"type\":\"heatmapgl\"}],\"histogram\":[{\"marker\":{\"pattern\":{\"fillmode\":\"overlay\",\"size\":10,\"solidity\":0.2}},\"type\":\"histogram\"}],\"histogram2d\":[{\"colorbar\":{\"outlinewidth\":0,\"ticks\":\"\"},\"colorscale\":[[0.0,\"#0d0887\"],[0.1111111111111111,\"#46039f\"],[0.2222222222222222,\"#7201a8\"],[0.3333333333333333,\"#9c179e\"],[0.4444444444444444,\"#bd3786\"],[0.5555555555555556,\"#d8576b\"],[0.6666666666666666,\"#ed7953\"],[0.7777777777777778,\"#fb9f3a\"],[0.8888888888888888,\"#fdca26\"],[1.0,\"#f0f921\"]],\"type\":\"histogram2d\"}],\"histogram2dcontour\":[{\"colorbar\":{\"outlinewidth\":0,\"ticks\":\"\"},\"colorscale\":[[0.0,\"#0d0887\"],[0.1111111111111111,\"#46039f\"],[0.2222222222222222,\"#7201a8\"],[0.3333333333333333,\"#9c179e\"],[0.4444444444444444,\"#bd3786\"],[0.5555555555555556,\"#d8576b\"],[0.6666666666666666,\"#ed7953\"],[0.7777777777777778,\"#fb9f3a\"],[0.8888888888888888,\"#fdca26\"],[1.0,\"#f0f921\"]],\"type\":\"histogram2dcontour\"}],\"mesh3d\":[{\"colorbar\":{\"outlinewidth\":0,\"ticks\":\"\"},\"type\":\"mesh3d\"}],\"parcoords\":[{\"line\":{\"colorbar\":{\"outlinewidth\":0,\"ticks\":\"\"}},\"type\":\"parcoords\"}],\"pie\":[{\"automargin\":true,\"type\":\"pie\"}],\"scatter\":[{\"marker\":{\"colorbar\":{\"outlinewidth\":0,\"ticks\":\"\"}},\"type\":\"scatter\"}],\"scatter3d\":[{\"line\":{\"colorbar\":{\"outlinewidth\":0,\"ticks\":\"\"}},\"marker\":{\"colorbar\":{\"outlinewidth\":0,\"ticks\":\"\"}},\"type\":\"scatter3d\"}],\"scattercarpet\":[{\"marker\":{\"colorbar\":{\"outlinewidth\":0,\"ticks\":\"\"}},\"type\":\"scattercarpet\"}],\"scattergeo\":[{\"marker\":{\"colorbar\":{\"outlinewidth\":0,\"ticks\":\"\"}},\"type\":\"scattergeo\"}],\"scattergl\":[{\"marker\":{\"colorbar\":{\"outlinewidth\":0,\"ticks\":\"\"}},\"type\":\"scattergl\"}],\"scattermapbox\":[{\"marker\":{\"colorbar\":{\"outlinewidth\":0,\"ticks\":\"\"}},\"type\":\"scattermapbox\"}],\"scatterpolar\":[{\"marker\":{\"colorbar\":{\"outlinewidth\":0,\"ticks\":\"\"}},\"type\":\"scatterpolar\"}],\"scatterpolargl\":[{\"marker\":{\"colorbar\":{\"outlinewidth\":0,\"ticks\":\"\"}},\"type\":\"scatterpolargl\"}],\"scatterternary\":[{\"marker\":{\"colorbar\":{\"outlinewidth\":0,\"ticks\":\"\"}},\"type\":\"scatterternary\"}],\"surface\":[{\"colorbar\":{\"outlinewidth\":0,\"ticks\":\"\"},\"colorscale\":[[0.0,\"#0d0887\"],[0.1111111111111111,\"#46039f\"],[0.2222222222222222,\"#7201a8\"],[0.3333333333333333,\"#9c179e\"],[0.4444444444444444,\"#bd3786\"],[0.5555555555555556,\"#d8576b\"],[0.6666666666666666,\"#ed7953\"],[0.7777777777777778,\"#fb9f3a\"],[0.8888888888888888,\"#fdca26\"],[1.0,\"#f0f921\"]],\"type\":\"surface\"}],\"table\":[{\"cells\":{\"fill\":{\"color\":\"#EBF0F8\"},\"line\":{\"color\":\"white\"}},\"header\":{\"fill\":{\"color\":\"#C8D4E3\"},\"line\":{\"color\":\"white\"}},\"type\":\"table\"}]},\"layout\":{\"annotationdefaults\":{\"arrowcolor\":\"#2a3f5f\",\"arrowhead\":0,\"arrowwidth\":1},\"autotypenumbers\":\"strict\",\"coloraxis\":{\"colorbar\":{\"outlinewidth\":0,\"ticks\":\"\"}},\"colorscale\":{\"diverging\":[[0,\"#8e0152\"],[0.1,\"#c51b7d\"],[0.2,\"#de77ae\"],[0.3,\"#f1b6da\"],[0.4,\"#fde0ef\"],[0.5,\"#f7f7f7\"],[0.6,\"#e6f5d0\"],[0.7,\"#b8e186\"],[0.8,\"#7fbc41\"],[0.9,\"#4d9221\"],[1,\"#276419\"]],\"sequential\":[[0.0,\"#0d0887\"],[0.1111111111111111,\"#46039f\"],[0.2222222222222222,\"#7201a8\"],[0.3333333333333333,\"#9c179e\"],[0.4444444444444444,\"#bd3786\"],[0.5555555555555556,\"#d8576b\"],[0.6666666666666666,\"#ed7953\"],[0.7777777777777778,\"#fb9f3a\"],[0.8888888888888888,\"#fdca26\"],[1.0,\"#f0f921\"]],\"sequentialminus\":[[0.0,\"#0d0887\"],[0.1111111111111111,\"#46039f\"],[0.2222222222222222,\"#7201a8\"],[0.3333333333333333,\"#9c179e\"],[0.4444444444444444,\"#bd3786\"],[0.5555555555555556,\"#d8576b\"],[0.6666666666666666,\"#ed7953\"],[0.7777777777777778,\"#fb9f3a\"],[0.8888888888888888,\"#fdca26\"],[1.0,\"#f0f921\"]]},\"colorway\":[\"#636efa\",\"#EF553B\",\"#00cc96\",\"#ab63fa\",\"#FFA15A\",\"#19d3f3\",\"#FF6692\",\"#B6E880\",\"#FF97FF\",\"#FECB52\"],\"font\":{\"color\":\"#2a3f5f\"},\"geo\":{\"bgcolor\":\"white\",\"lakecolor\":\"white\",\"landcolor\":\"#E5ECF6\",\"showlakes\":true,\"showland\":true,\"subunitcolor\":\"white\"},\"hoverlabel\":{\"align\":\"left\"},\"hovermode\":\"closest\",\"mapbox\":{\"style\":\"light\"},\"paper_bgcolor\":\"white\",\"plot_bgcolor\":\"#E5ECF6\",\"polar\":{\"angularaxis\":{\"gridcolor\":\"white\",\"linecolor\":\"white\",\"ticks\":\"\"},\"bgcolor\":\"#E5ECF6\",\"radialaxis\":{\"gridcolor\":\"white\",\"linecolor\":\"white\",\"ticks\":\"\"}},\"scene\":{\"xaxis\":{\"backgroundcolor\":\"#E5ECF6\",\"gridcolor\":\"white\",\"gridwidth\":2,\"linecolor\":\"white\",\"showbackground\":true,\"ticks\":\"\",\"zerolinecolor\":\"white\"},\"yaxis\":{\"backgroundcolor\":\"#E5ECF6\",\"gridcolor\":\"white\",\"gridwidth\":2,\"linecolor\":\"white\",\"showbackground\":true,\"ticks\":\"\",\"zerolinecolor\":\"white\"},\"zaxis\":{\"backgroundcolor\":\"#E5ECF6\",\"gridcolor\":\"white\",\"gridwidth\":2,\"linecolor\":\"white\",\"showbackground\":true,\"ticks\":\"\",\"zerolinecolor\":\"white\"}},\"shapedefaults\":{\"line\":{\"color\":\"#2a3f5f\"}},\"ternary\":{\"aaxis\":{\"gridcolor\":\"white\",\"linecolor\":\"white\",\"ticks\":\"\"},\"baxis\":{\"gridcolor\":\"white\",\"linecolor\":\"white\",\"ticks\":\"\"},\"bgcolor\":\"#E5ECF6\",\"caxis\":{\"gridcolor\":\"white\",\"linecolor\":\"white\",\"ticks\":\"\"}},\"title\":{\"x\":0.05},\"xaxis\":{\"automargin\":true,\"gridcolor\":\"white\",\"linecolor\":\"white\",\"ticks\":\"\",\"title\":{\"standoff\":15},\"zerolinecolor\":\"white\",\"zerolinewidth\":2},\"yaxis\":{\"automargin\":true,\"gridcolor\":\"white\",\"linecolor\":\"white\",\"ticks\":\"\",\"title\":{\"standoff\":15},\"zerolinecolor\":\"white\",\"zerolinewidth\":2}}},\"sliders\":[{\"active\":0,\"currentvalue\":{\"prefix\":\"Step = \"},\"pad\":{\"t\":50},\"steps\":[{\"args\":[{\"visible\":[true,true,true,true,false,false,false,false,false,false,false,false,false,false,false,false,false,false,false,false,false,false,false,false,false,false,false,false,false,false,false,false,false,false,false,false,false,false,false,false]}],\"label\":\"1\",\"method\":\"update\"},{\"args\":[{\"visible\":[true,true,true,true,true,true,true,true,false,false,false,false,false,false,false,false,false,false,false,false,false,false,false,false,false,false,false,false,false,false,false,false,false,false,false,false,false,false,false,false]}],\"label\":\"2\",\"method\":\"update\"},{\"args\":[{\"visible\":[true,true,true,true,true,true,true,true,true,true,true,true,false,false,false,false,false,false,false,false,false,false,false,false,false,false,false,false,false,false,false,false,false,false,false,false,false,false,false,false]}],\"label\":\"3\",\"method\":\"update\"},{\"args\":[{\"visible\":[true,true,true,true,true,true,true,true,true,true,true,true,true,true,true,true,false,false,false,false,false,false,false,false,false,false,false,false,false,false,false,false,false,false,false,false,false,false,false,false]}],\"label\":\"4\",\"method\":\"update\"},{\"args\":[{\"visible\":[true,true,true,true,true,true,true,true,true,true,true,true,true,true,true,true,true,true,true,true,false,false,false,false,false,false,false,false,false,false,false,false,false,false,false,false,false,false,false,false]}],\"label\":\"5\",\"method\":\"update\"},{\"args\":[{\"visible\":[true,true,true,true,true,true,true,true,true,true,true,true,true,true,true,true,true,true,true,true,true,true,true,true,false,false,false,false,false,false,false,false,false,false,false,false,false,false,false,false]}],\"label\":\"6\",\"method\":\"update\"},{\"args\":[{\"visible\":[true,true,true,true,true,true,true,true,true,true,true,true,true,true,true,true,true,true,true,true,true,true,true,true,true,true,true,true,false,false,false,false,false,false,false,false,false,false,false,false]}],\"label\":\"7\",\"method\":\"update\"},{\"args\":[{\"visible\":[true,true,true,true,true,true,true,true,true,true,true,true,true,true,true,true,true,true,true,true,true,true,true,true,true,true,true,true,true,true,true,true,false,false,false,false,false,false,false,false]}],\"label\":\"8\",\"method\":\"update\"},{\"args\":[{\"visible\":[true,true,true,true,true,true,true,true,true,true,true,true,true,true,true,true,true,true,true,true,true,true,true,true,true,true,true,true,true,true,true,true,true,true,true,true,false,false,false,false]}],\"label\":\"9\",\"method\":\"update\"},{\"args\":[{\"visible\":[true,true,true,true,true,true,true,true,true,true,true,true,true,true,true,true,true,true,true,true,true,true,true,true,true,true,true,true,true,true,true,true,true,true,true,true,true,true,true,true]}],\"label\":\"10\",\"method\":\"update\"}]}],\"xaxis\":{\"title\":{\"text\":\"x\"}},\"yaxis\":{\"title\":{\"text\":\"y\"}}},                        {\"responsive\": true}                    ).then(function(){\n",
       "                            \n",
       "var gd = document.getElementById('bc392e1d-b1eb-43ff-b555-589acb1bbf25');\n",
       "var x = new MutationObserver(function (mutations, observer) {{\n",
       "        var display = window.getComputedStyle(gd).display;\n",
       "        if (!display || display === 'none') {{\n",
       "            console.log([gd, 'removed!']);\n",
       "            Plotly.purge(gd);\n",
       "            observer.disconnect();\n",
       "        }}\n",
       "}});\n",
       "\n",
       "// Listen for the removal of the full notebook cells\n",
       "var notebookContainer = gd.closest('#notebook-container');\n",
       "if (notebookContainer) {{\n",
       "    x.observe(notebookContainer, {childList: true});\n",
       "}}\n",
       "\n",
       "// Listen for the clearing of the current output cell\n",
       "var outputEl = gd.closest('.output');\n",
       "if (outputEl) {{\n",
       "    x.observe(outputEl, {childList: true});\n",
       "}}\n",
       "\n",
       "                        })                };                });            </script>        </div>"
      ]
     },
     "metadata": {},
     "output_type": "display_data"
    }
   ],
   "source": [
    "import plotly.graph_objects as go\n",
    "import numpy as np\n",
    "\n",
    "N = 10\n",
    "ts = np.arange(N)*Dt\n",
    "A = np.array([\n",
    "    [a11, a12],\n",
    "    [a21, a22]])\n",
    "y0 = np.array([y01, y02])\n",
    "L, X = np.linalg.eig(A)\n",
    "# EA = X.dot(np.diag(np.exp(L*Dt))).dot(np.linalg.inv(X))\n",
    "\n",
    "c = np.linalg.solve(X, y0).reshape(-1,1) * np.exp(L.reshape(-1,1)*ts)\n",
    "y1 = X[:,0].reshape(-1,1) * c[0]\n",
    "y1 = np.hstack([np.array([[0],[0]]), y1])\n",
    "y2 = X[:,1].reshape(-1,1) * c[1]\n",
    "y2 = np.hstack([np.array([[0],[0]]), y2])\n",
    "ys = y1 + y2\n",
    "\n",
    "fig = go.Figure()\n",
    "\n",
    "# Add traces, one for each slider step\n",
    "for _i in range(1,N+1):\n",
    "    _sl = _i==1\n",
    "    fig.add_trace(\n",
    "        go.Scatter(\n",
    "            visible=False, line=dict(color=\"blue\", width=2),\n",
    "            name=\"Eigenvector 1\", x=y1[0,:_i+1], y=y1[1,:_i+1], showlegend=_sl))\n",
    "    fig.add_trace(\n",
    "        go.Scatter(\n",
    "            visible=False, line=dict(color=\"red\", width=2),\n",
    "            name=\"Eigenvector 2\", x=y2[0,:_i+1], y=y2[1,:_i+1], showlegend=_sl))\n",
    "    fig.add_trace(\n",
    "        go.Scatter(\n",
    "            visible=False, line=dict(color=\"black\", width=2),\n",
    "            name=\"Solution\", x=ys[0,1:_i+1], y=ys[1,1:_i+1], showlegend=_sl))\n",
    "    fig.add_trace(\n",
    "        go.Scatter(\n",
    "            visible=False, line=dict(color=\"gray\", width=1, dash='dash'),\n",
    "            name=\"Decomposition\", showlegend=_sl,\n",
    "            x=[y1[0,_i],ys[0,_i],y2[0,_i]], y=[y1[1,_i],ys[1,_i],y2[1,_i]]))\n",
    "for _i in range(4):\n",
    "    fig.data[_i].visible = True\n",
    "\n",
    "# Create and add slider\n",
    "steps = []\n",
    "for i in range(1,N+1):\n",
    "    step = dict(\n",
    "        method=\"update\",\n",
    "        args=[{\"visible\": [False] * N*4}],\n",
    "        label=f\"{i}\"\n",
    "    )\n",
    "    for j in range(4*i):\n",
    "        step[\"args\"][0][\"visible\"][j] = True\n",
    "    steps.append(step)\n",
    "\n",
    "sliders = [dict(\n",
    "    active=0,\n",
    "    currentvalue={\"prefix\": \"Step = \"},\n",
    "    pad={\"t\": 50},\n",
    "    steps=steps\n",
    ")]\n",
    "\n",
    "fig.update_layout(\n",
    "    sliders=sliders,\n",
    "    xaxis_title=\"x\",\n",
    "    yaxis_title=\"y\",\n",
    "#     autosize=False,\n",
    "#     width=800,\n",
    "#     height=800\n",
    ")\n",
    "\n",
    "# fig.update_xaxes(range=[-2.0, 2.0])\n",
    "# fig.update_yaxes(range=[-2.0, 2.0])\n",
    "\n",
    "fig.show()"
   ]
  },
  {
   "cell_type": "code",
   "execution_count": null,
   "id": "39df4d1c",
   "metadata": {},
   "outputs": [],
   "source": []
  }
 ],
 "metadata": {
  "kernelspec": {
   "display_name": "Python 3 (ipykernel)",
   "language": "python",
   "name": "python3"
  },
  "language_info": {
   "codemirror_mode": {
    "name": "ipython",
    "version": 3
   },
   "file_extension": ".py",
   "mimetype": "text/x-python",
   "name": "python",
   "nbconvert_exporter": "python",
   "pygments_lexer": "ipython3",
   "version": "3.8.6"
  }
 },
 "nbformat": 4,
 "nbformat_minor": 5
}
