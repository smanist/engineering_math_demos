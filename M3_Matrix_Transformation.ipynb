{
 "cells": [
  {
   "cell_type": "code",
   "execution_count": null,
   "id": "0adfde58",
   "metadata": {},
   "outputs": [],
   "source": [
    "---\n",
    "title: Transformation of a 2x2 Matrix\n",
    "description: ...\n",
    "author: Daning H.\n",
    "show-code: True\n",
    "show-prompt: False\n",
    "---"
   ]
  },
  {
   "cell_type": "code",
   "execution_count": 1,
   "id": "87d51918",
   "metadata": {},
   "outputs": [
    {
     "data": {
      "application/vnd.jupyter.widget-view+json": {
       "model_id": "5875e00f63f541e6b19363ee1058e810",
       "version_major": 2,
       "version_minor": 0
      },
      "text/plain": [
       "Canvas(toolbar=Toolbar(toolitems=[('Home', 'Reset original view', 'home', 'home'), ('Back', 'Back to previous …"
      ]
     },
     "metadata": {},
     "output_type": "display_data"
    }
   ],
   "source": [
    "%matplotlib widget\n",
    "import numpy as np\n",
    "import matplotlib.pyplot as plt\n",
    "\n",
    "A = np.array([[1,-1], [-0.25,1]])\n",
    "\n",
    "class LineBuilder:\n",
    "    def __init__(self, l1, l2):\n",
    "        self.l1, self.t1 = l1\n",
    "        self.l2, self.t2 = l2\n",
    "        self.cid = self.l1.figure.canvas.mpl_connect('button_press_event', self)\n",
    "        self.fig = self.l1.figure\n",
    "\n",
    "    def __call__(self, event):\n",
    "        # print('click', event)\n",
    "        if event.inaxes != self.l1.axes: return\n",
    "        _x = np.array([event.xdata, event.ydata])\n",
    "        _y = A.dot(_x.reshape(-1,1)).reshape(-1)\n",
    "        # Initial vector\n",
    "        self.l1.set_data([0,_x[0]], [0,_x[1]])\n",
    "        self.t1.set_position(_x)\n",
    "        self.t1.set_text(f'({_x[0]:3.2f}, {_x[1]:3.2f})')\n",
    "        # Transformed\n",
    "        self.l2.set_data([0,_y[0]], [0,_y[1]])\n",
    "        self.t2.set_position(_y)\n",
    "        self.t2.set_text(f'({_y[0]:3.2f}, {_y[1]:3.2f})')\n",
    "        self.fig.canvas.draw()\n",
    "\n",
    "fig, ax = plt.subplots(figsize=(4,4))\n",
    "ax.set_title('y = Ax')\n",
    "l1, = ax.plot([0], [0], 'bo-', linewidth=2, label='x, Initial')\n",
    "l2, = ax.plot([0], [0], 'rs-', label='y, Transformed')\n",
    "t1 = ax.text(0, 0, '')\n",
    "t2 = ax.text(0, 0, '')\n",
    "ax.text(-1.9,1.6,'A = [ 1,   -1]\\n       [-1/4, 1]')\n",
    "plt.xlim([-2,2])\n",
    "plt.ylim([-2,2])\n",
    "plt.grid()\n",
    "plt.legend()\n",
    "linebuilder = LineBuilder((l1, t1), (l2, t2))\n",
    "\n",
    "plt.show();"
   ]
  },
  {
   "cell_type": "code",
   "execution_count": null,
   "id": "e8702a38",
   "metadata": {},
   "outputs": [],
   "source": []
  }
 ],
 "metadata": {
  "kernelspec": {
   "display_name": "Python 3 (ipykernel)",
   "language": "python",
   "name": "python3"
  },
  "language_info": {
   "codemirror_mode": {
    "name": "ipython",
    "version": 3
   },
   "file_extension": ".py",
   "mimetype": "text/x-python",
   "name": "python",
   "nbconvert_exporter": "python",
   "pygments_lexer": "ipython3",
   "version": "3.8.6"
  }
 },
 "nbformat": 4,
 "nbformat_minor": 5
}
